{
 "cells": [
  {
   "cell_type": "code",
   "execution_count": 1,
   "id": "f1d54573",
   "metadata": {},
   "outputs": [],
   "source": [
    "# open a .pt file and print the contents\n",
    "import sys\n",
    "import torch\n",
    "def pt_file_contents(file_path):\n",
    "    try:\n",
    "        data = torch.load(file_path, map_location='cpu')\n",
    "        return data\n",
    "    except Exception as e:\n",
    "        print(f\"Error loading file {file_path}: {e}\")\n",
    "    "
   ]
  },
  {
   "cell_type": "code",
   "execution_count": 2,
   "id": "56c829db",
   "metadata": {},
   "outputs": [
    {
     "name": "stderr",
     "output_type": "stream",
     "text": [
      "/tmp/ipykernel_6445/3539819410.py:6: FutureWarning: You are using `torch.load` with `weights_only=False` (the current default value), which uses the default pickle module implicitly. It is possible to construct malicious pickle data which will execute arbitrary code during unpickling (See https://github.com/pytorch/pytorch/blob/main/SECURITY.md#untrusted-models for more details). In a future release, the default value for `weights_only` will be flipped to `True`. This limits the functions that could be executed during unpickling. Arbitrary objects will no longer be allowed to be loaded via this mode unless they are explicitly allowlisted by the user via `torch.serialization.add_safe_globals`. We recommend you start setting `weights_only=True` for any use case where you don't have full control of the loaded file. Please open an issue on GitHub for any issues related to this experimental feature.\n",
      "  data = torch.load(file_path, map_location='cpu')\n"
     ]
    }
   ],
   "source": [
    "data_dict = pt_file_contents(\"/teamspace/studios/mere-salmon-k9gx/c3po/logs/rsl_rl/vla/2025-05-26_09-33-29/obs_dict_8.pt\")"
   ]
  },
  {
   "cell_type": "code",
   "execution_count": 3,
   "id": "ef7638e6",
   "metadata": {},
   "outputs": [
    {
     "data": {
      "text/plain": [
       "dict"
      ]
     },
     "execution_count": 3,
     "metadata": {},
     "output_type": "execute_result"
    }
   ],
   "source": [
    "type(data_dict)"
   ]
  },
  {
   "cell_type": "code",
   "execution_count": 4,
   "id": "20189729",
   "metadata": {},
   "outputs": [
    {
     "data": {
      "text/plain": [
       "{'policy': tensor([[-1.0690e-01, -2.9750e-02, -6.4815e-02, -2.4709e-02,  4.1666e-02,\n",
       "           2.7554e-02, -6.9674e-02, -2.7866e-02,  1.4706e-02, -3.3897e-02,\n",
       "           5.8468e-03, -3.5171e-02,  1.8080e-04,  1.6441e-04,  5.9437e-05,\n",
       "           1.2694e-04,  9.9172e-03,  5.8175e-04,  9.7774e-04]]),\n",
       " 'camera': tensor([[[[ 0.4363,  0.3922,  0.4353],\n",
       "           [ 0.4363,  0.3922,  0.4353],\n",
       "           [ 0.4363,  0.3922,  0.4353],\n",
       "           ...,\n",
       "           [ 0.4324,  0.3883,  0.4314],\n",
       "           [ 0.4089,  0.3687,  0.4118],\n",
       "           [ 0.0794,  0.0393,  0.0824]],\n",
       " \n",
       "          [[ 0.4363,  0.3922,  0.4353],\n",
       "           [ 0.4363,  0.3922,  0.4353],\n",
       "           [ 0.4363,  0.3922,  0.4353],\n",
       "           ...,\n",
       "           [ 0.4324,  0.3883,  0.4314],\n",
       "           [ 0.4128,  0.3687,  0.4118],\n",
       "           [ 0.0559,  0.0118,  0.0549]],\n",
       " \n",
       "          [[ 0.4363,  0.3922,  0.4353],\n",
       "           [ 0.4363,  0.3922,  0.4353],\n",
       "           [ 0.4363,  0.3922,  0.4353],\n",
       "           ...,\n",
       "           [ 0.4363,  0.3922,  0.4353],\n",
       "           [ 0.4167,  0.3726,  0.4157],\n",
       "           [ 0.0245, -0.0195,  0.0275]],\n",
       " \n",
       "          ...,\n",
       " \n",
       "          [[-0.4617, -0.5058, -0.4627],\n",
       "           [-0.4617, -0.5058, -0.4627],\n",
       "           [-0.4617, -0.5058, -0.4666],\n",
       "           ...,\n",
       "           [-0.4578, -0.5019, -0.4588],\n",
       "           [-0.4657, -0.5136, -0.4666],\n",
       "           [-0.5088, -0.5529, -0.5098]],\n",
       " \n",
       "          [[-0.4696, -0.5136, -0.4705],\n",
       "           [-0.4696, -0.5136, -0.4705],\n",
       "           [-0.4657, -0.5097, -0.4666],\n",
       "           ...,\n",
       "           [-0.4578, -0.5019, -0.4588],\n",
       "           [-0.4696, -0.5136, -0.4705],\n",
       "           [-0.5049, -0.5489, -0.5058]],\n",
       " \n",
       "          [[-0.4931, -0.5372, -0.4941],\n",
       "           [-0.4813, -0.5215, -0.4823],\n",
       "           [-0.4735, -0.5176, -0.4745],\n",
       "           ...,\n",
       "           [-0.4774, -0.5215, -0.4784],\n",
       "           [-0.4853, -0.5293, -0.4862],\n",
       "           [-0.5088, -0.5529, -0.5098]]]]),\n",
       " 'table_camera': tensor([[[[ 2.4277e-04,  2.3955e-04,  2.4086e-04],\n",
       "           [ 2.4277e-04,  2.3955e-04,  2.4086e-04],\n",
       "           [ 2.4277e-04,  2.3955e-04,  2.4086e-04],\n",
       "           ...,\n",
       "           [ 2.4277e-04,  2.3955e-04,  2.4086e-04],\n",
       "           [ 2.4277e-04,  2.3955e-04,  2.4086e-04],\n",
       "           [-2.3287e-02, -2.3290e-02, -2.3289e-02]],\n",
       " \n",
       "          [[ 2.4277e-04,  2.3955e-04,  2.4086e-04],\n",
       "           [ 2.4277e-04,  2.3955e-04,  2.4086e-04],\n",
       "           [ 2.4277e-04,  2.3955e-04,  2.4086e-04],\n",
       "           ...,\n",
       "           [ 2.4277e-04,  2.3955e-04,  2.4086e-04],\n",
       "           [ 2.4277e-04,  2.3955e-04,  2.4086e-04],\n",
       "           [-2.3287e-02, -2.3290e-02, -2.3289e-02]],\n",
       " \n",
       "          [[ 2.4277e-04,  2.3955e-04,  2.4086e-04],\n",
       "           [ 2.4277e-04,  2.3955e-04,  2.4086e-04],\n",
       "           [ 2.4277e-04,  2.3955e-04,  2.4086e-04],\n",
       "           ...,\n",
       "           [ 2.4277e-04,  2.3955e-04,  2.4086e-04],\n",
       "           [ 2.4277e-04,  2.3955e-04,  2.4086e-04],\n",
       "           [-2.3287e-02, -2.3290e-02, -2.3289e-02]],\n",
       " \n",
       "          ...,\n",
       " \n",
       "          [[ 2.4277e-04,  2.3955e-04,  2.4086e-04],\n",
       "           [ 2.4277e-04,  2.3955e-04,  2.4086e-04],\n",
       "           [ 2.4277e-04,  2.3955e-04,  2.4086e-04],\n",
       "           ...,\n",
       "           [ 2.4277e-04,  2.3955e-04,  2.4086e-04],\n",
       "           [-3.6788e-03, -3.6820e-03, -3.6807e-03],\n",
       "           [-1.0956e-01, -1.0956e-01, -1.0956e-01]],\n",
       " \n",
       "          [[ 2.4277e-04,  2.3955e-04,  2.4086e-04],\n",
       "           [ 2.4277e-04,  2.3955e-04,  2.4086e-04],\n",
       "           [ 2.4277e-04,  2.3955e-04,  2.4086e-04],\n",
       "           ...,\n",
       "           [ 2.4277e-04,  2.3955e-04,  2.4086e-04],\n",
       "           [-3.6788e-03, -3.6820e-03, -3.6807e-03],\n",
       "           [-1.0956e-01, -1.0564e-01, -1.0564e-01]],\n",
       " \n",
       "          [[-3.8973e-02, -3.8976e-02, -3.8975e-02],\n",
       "           [-3.5051e-02, -3.5055e-02, -3.5053e-02],\n",
       "           [-2.7208e-02, -2.7211e-02, -2.7210e-02],\n",
       "           ...,\n",
       "           [-7.4267e-02, -7.0349e-02, -7.0347e-02],\n",
       "           [-7.8189e-02, -7.8192e-02, -7.4269e-02],\n",
       "           [-3.7623e-01, -3.7623e-01, -3.6839e-01]]]])}"
      ]
     },
     "execution_count": 4,
     "metadata": {},
     "output_type": "execute_result"
    }
   ],
   "source": [
    "data_dict[\"observations\"]"
   ]
  },
  {
   "cell_type": "code",
   "execution_count": 5,
   "id": "a94e2a47",
   "metadata": {},
   "outputs": [
    {
     "name": "stdout",
     "output_type": "stream",
     "text": [
      "log\n",
      "observations\n",
      "time_outs\n"
     ]
    }
   ],
   "source": [
    "# print the keys in the dictionary\n",
    "for key in data_dict.keys():\n",
    "    print(key)"
   ]
  },
  {
   "cell_type": "code",
   "execution_count": 6,
   "id": "a035ab94",
   "metadata": {},
   "outputs": [],
   "source": [
    "data = data_dict[\"observations\"]"
   ]
  },
  {
   "cell_type": "code",
   "execution_count": 7,
   "id": "ba663b11",
   "metadata": {},
   "outputs": [
    {
     "name": "stdout",
     "output_type": "stream",
     "text": [
      "policy shape: torch.Size([1, 19])\n",
      "camera shape: torch.Size([1, 256, 256, 3])\n",
      "table_camera shape: torch.Size([1, 256, 256, 3])\n"
     ]
    }
   ],
   "source": [
    "# shape of data\n",
    "if isinstance(data, dict):\n",
    "    for key, value in data.items():\n",
    "        if isinstance(value, torch.Tensor):\n",
    "            print(f\"{key} shape: {value.shape}\")\n",
    "        else:\n",
    "            print(f\"{key} type: {type(value)}\")"
   ]
  },
  {
   "cell_type": "code",
   "execution_count": 8,
   "id": "ba3e87c1",
   "metadata": {},
   "outputs": [
    {
     "data": {
      "text/plain": [
       "tensor([[-1.0690e-01, -2.9750e-02, -6.4815e-02, -2.4709e-02,  4.1666e-02,\n",
       "          2.7554e-02, -6.9674e-02, -2.7866e-02,  1.4706e-02, -3.3897e-02,\n",
       "          5.8468e-03, -3.5171e-02,  1.8080e-04,  1.6441e-04,  5.9437e-05,\n",
       "          1.2694e-04,  9.9172e-03,  5.8175e-04,  9.7774e-04]])"
      ]
     },
     "execution_count": 8,
     "metadata": {},
     "output_type": "execute_result"
    }
   ],
   "source": [
    "data[\"policy\"]"
   ]
  },
  {
   "cell_type": "code",
   "execution_count": 9,
   "id": "11d12881",
   "metadata": {},
   "outputs": [
    {
     "data": {
      "text/plain": [
       "torch.Size([1, 256, 256, 3])"
      ]
     },
     "execution_count": 9,
     "metadata": {},
     "output_type": "execute_result"
    }
   ],
   "source": [
    "data[\"camera\"].shape"
   ]
  },
  {
   "cell_type": "code",
   "execution_count": 10,
   "id": "4f4ecbe4",
   "metadata": {},
   "outputs": [],
   "source": [
    "img = data[\"camera\"]"
   ]
  },
  {
   "cell_type": "code",
   "execution_count": 11,
   "id": "d2b077b2",
   "metadata": {},
   "outputs": [
    {
     "data": {
      "text/plain": [
       "torch.Size([1, 256, 256, 3])"
      ]
     },
     "execution_count": 11,
     "metadata": {},
     "output_type": "execute_result"
    }
   ],
   "source": [
    "img.shape"
   ]
  },
  {
   "cell_type": "code",
   "execution_count": 12,
   "id": "9dfede4d",
   "metadata": {},
   "outputs": [
    {
     "ename": "KeyboardInterrupt",
     "evalue": "",
     "output_type": "error",
     "traceback": [
      "\u001b[0;31m---------------------------------------------------------------------------\u001b[0m",
      "\u001b[0;31mKeyboardInterrupt\u001b[0m                         Traceback (most recent call last)",
      "Cell \u001b[0;32mIn[12], line 2\u001b[0m\n\u001b[1;32m      1\u001b[0m \u001b[38;5;66;03m# display the image img with size (1, 256, 256, 3)\u001b[39;00m\n\u001b[0;32m----> 2\u001b[0m \u001b[38;5;28;01mimport\u001b[39;00m\u001b[38;5;250m \u001b[39m\u001b[38;5;21;01mmatplotlib\u001b[39;00m\u001b[38;5;21;01m.\u001b[39;00m\u001b[38;5;21;01mpyplot\u001b[39;00m\u001b[38;5;250m \u001b[39m\u001b[38;5;28;01mas\u001b[39;00m\u001b[38;5;250m \u001b[39m\u001b[38;5;21;01mplt\u001b[39;00m\n\u001b[1;32m      3\u001b[0m \u001b[38;5;28;01mdef\u001b[39;00m\u001b[38;5;250m \u001b[39m\u001b[38;5;21mdisplay_image\u001b[39m(image_tensor):\n\u001b[1;32m      4\u001b[0m     \u001b[38;5;28;01mif\u001b[39;00m image_tensor\u001b[38;5;241m.\u001b[39mndim \u001b[38;5;241m==\u001b[39m \u001b[38;5;241m4\u001b[39m:\n",
      "File \u001b[0;32m/home/zeus/miniconda3/envs/cloudspace/lib/python3.10/site-packages/matplotlib/pyplot.py:57\u001b[0m\n\u001b[1;32m     55\u001b[0m \u001b[38;5;28;01mfrom\u001b[39;00m\u001b[38;5;250m \u001b[39m\u001b[38;5;21;01mcycler\u001b[39;00m\u001b[38;5;250m \u001b[39m\u001b[38;5;28;01mimport\u001b[39;00m cycler  \u001b[38;5;66;03m# noqa: F401\u001b[39;00m\n\u001b[1;32m     56\u001b[0m \u001b[38;5;28;01mimport\u001b[39;00m\u001b[38;5;250m \u001b[39m\u001b[38;5;21;01mmatplotlib\u001b[39;00m\n\u001b[0;32m---> 57\u001b[0m \u001b[38;5;28;01mimport\u001b[39;00m\u001b[38;5;250m \u001b[39m\u001b[38;5;21;01mmatplotlib\u001b[39;00m\u001b[38;5;21;01m.\u001b[39;00m\u001b[38;5;21;01mcolorbar\u001b[39;00m\n\u001b[1;32m     58\u001b[0m \u001b[38;5;28;01mimport\u001b[39;00m\u001b[38;5;250m \u001b[39m\u001b[38;5;21;01mmatplotlib\u001b[39;00m\u001b[38;5;21;01m.\u001b[39;00m\u001b[38;5;21;01mimage\u001b[39;00m\n\u001b[1;32m     59\u001b[0m \u001b[38;5;28;01mfrom\u001b[39;00m\u001b[38;5;250m \u001b[39m\u001b[38;5;21;01mmatplotlib\u001b[39;00m\u001b[38;5;250m \u001b[39m\u001b[38;5;28;01mimport\u001b[39;00m _api\n",
      "File \u001b[0;32m/home/zeus/miniconda3/envs/cloudspace/lib/python3.10/site-packages/matplotlib/colorbar.py:19\u001b[0m\n\u001b[1;32m     16\u001b[0m \u001b[38;5;28;01mimport\u001b[39;00m\u001b[38;5;250m \u001b[39m\u001b[38;5;21;01mnumpy\u001b[39;00m\u001b[38;5;250m \u001b[39m\u001b[38;5;28;01mas\u001b[39;00m\u001b[38;5;250m \u001b[39m\u001b[38;5;21;01mnp\u001b[39;00m\n\u001b[1;32m     18\u001b[0m \u001b[38;5;28;01mimport\u001b[39;00m\u001b[38;5;250m \u001b[39m\u001b[38;5;21;01mmatplotlib\u001b[39;00m\u001b[38;5;250m \u001b[39m\u001b[38;5;28;01mas\u001b[39;00m\u001b[38;5;250m \u001b[39m\u001b[38;5;21;01mmpl\u001b[39;00m\n\u001b[0;32m---> 19\u001b[0m \u001b[38;5;28;01mfrom\u001b[39;00m\u001b[38;5;250m \u001b[39m\u001b[38;5;21;01mmatplotlib\u001b[39;00m\u001b[38;5;250m \u001b[39m\u001b[38;5;28;01mimport\u001b[39;00m _api, cbook, collections, cm, colors, contour, ticker\n\u001b[1;32m     20\u001b[0m \u001b[38;5;28;01mimport\u001b[39;00m\u001b[38;5;250m \u001b[39m\u001b[38;5;21;01mmatplotlib\u001b[39;00m\u001b[38;5;21;01m.\u001b[39;00m\u001b[38;5;21;01martist\u001b[39;00m\u001b[38;5;250m \u001b[39m\u001b[38;5;28;01mas\u001b[39;00m\u001b[38;5;250m \u001b[39m\u001b[38;5;21;01mmartist\u001b[39;00m\n\u001b[1;32m     21\u001b[0m \u001b[38;5;28;01mimport\u001b[39;00m\u001b[38;5;250m \u001b[39m\u001b[38;5;21;01mmatplotlib\u001b[39;00m\u001b[38;5;21;01m.\u001b[39;00m\u001b[38;5;21;01mpatches\u001b[39;00m\u001b[38;5;250m \u001b[39m\u001b[38;5;28;01mas\u001b[39;00m\u001b[38;5;250m \u001b[39m\u001b[38;5;21;01mmpatches\u001b[39;00m\n",
      "File \u001b[0;32m/home/zeus/miniconda3/envs/cloudspace/lib/python3.10/site-packages/matplotlib/contour.py:15\u001b[0m\n\u001b[1;32m     13\u001b[0m \u001b[38;5;28;01mimport\u001b[39;00m\u001b[38;5;250m \u001b[39m\u001b[38;5;21;01mmatplotlib\u001b[39;00m\u001b[38;5;250m \u001b[39m\u001b[38;5;28;01mas\u001b[39;00m\u001b[38;5;250m \u001b[39m\u001b[38;5;21;01mmpl\u001b[39;00m\n\u001b[1;32m     14\u001b[0m \u001b[38;5;28;01mfrom\u001b[39;00m\u001b[38;5;250m \u001b[39m\u001b[38;5;21;01mmatplotlib\u001b[39;00m\u001b[38;5;250m \u001b[39m\u001b[38;5;28;01mimport\u001b[39;00m _api, _docstring\n\u001b[0;32m---> 15\u001b[0m \u001b[38;5;28;01mfrom\u001b[39;00m\u001b[38;5;250m \u001b[39m\u001b[38;5;21;01mmatplotlib\u001b[39;00m\u001b[38;5;21;01m.\u001b[39;00m\u001b[38;5;21;01mbackend_bases\u001b[39;00m\u001b[38;5;250m \u001b[39m\u001b[38;5;28;01mimport\u001b[39;00m MouseButton\n\u001b[1;32m     16\u001b[0m \u001b[38;5;28;01mfrom\u001b[39;00m\u001b[38;5;250m \u001b[39m\u001b[38;5;21;01mmatplotlib\u001b[39;00m\u001b[38;5;21;01m.\u001b[39;00m\u001b[38;5;21;01mlines\u001b[39;00m\u001b[38;5;250m \u001b[39m\u001b[38;5;28;01mimport\u001b[39;00m Line2D\n\u001b[1;32m     17\u001b[0m \u001b[38;5;28;01mfrom\u001b[39;00m\u001b[38;5;250m \u001b[39m\u001b[38;5;21;01mmatplotlib\u001b[39;00m\u001b[38;5;21;01m.\u001b[39;00m\u001b[38;5;21;01mpath\u001b[39;00m\u001b[38;5;250m \u001b[39m\u001b[38;5;28;01mimport\u001b[39;00m Path\n",
      "File \u001b[0;32m/home/zeus/miniconda3/envs/cloudspace/lib/python3.10/site-packages/matplotlib/backend_bases.py:49\u001b[0m\n\u001b[1;32m     46\u001b[0m \u001b[38;5;28;01mimport\u001b[39;00m\u001b[38;5;250m \u001b[39m\u001b[38;5;21;01mnumpy\u001b[39;00m\u001b[38;5;250m \u001b[39m\u001b[38;5;28;01mas\u001b[39;00m\u001b[38;5;250m \u001b[39m\u001b[38;5;21;01mnp\u001b[39;00m\n\u001b[1;32m     48\u001b[0m \u001b[38;5;28;01mimport\u001b[39;00m\u001b[38;5;250m \u001b[39m\u001b[38;5;21;01mmatplotlib\u001b[39;00m\u001b[38;5;250m \u001b[39m\u001b[38;5;28;01mas\u001b[39;00m\u001b[38;5;250m \u001b[39m\u001b[38;5;21;01mmpl\u001b[39;00m\n\u001b[0;32m---> 49\u001b[0m \u001b[38;5;28;01mfrom\u001b[39;00m\u001b[38;5;250m \u001b[39m\u001b[38;5;21;01mmatplotlib\u001b[39;00m\u001b[38;5;250m \u001b[39m\u001b[38;5;28;01mimport\u001b[39;00m (\n\u001b[1;32m     50\u001b[0m     _api, backend_tools \u001b[38;5;28;01mas\u001b[39;00m tools, cbook, colors, _docstring, text,\n\u001b[1;32m     51\u001b[0m     _tight_bbox, transforms, widgets, is_interactive, rcParams)\n\u001b[1;32m     52\u001b[0m \u001b[38;5;28;01mfrom\u001b[39;00m\u001b[38;5;250m \u001b[39m\u001b[38;5;21;01mmatplotlib\u001b[39;00m\u001b[38;5;21;01m.\u001b[39;00m\u001b[38;5;21;01m_pylab_helpers\u001b[39;00m\u001b[38;5;250m \u001b[39m\u001b[38;5;28;01mimport\u001b[39;00m Gcf\n\u001b[1;32m     53\u001b[0m \u001b[38;5;28;01mfrom\u001b[39;00m\u001b[38;5;250m \u001b[39m\u001b[38;5;21;01mmatplotlib\u001b[39;00m\u001b[38;5;21;01m.\u001b[39;00m\u001b[38;5;21;01mbackend_managers\u001b[39;00m\u001b[38;5;250m \u001b[39m\u001b[38;5;28;01mimport\u001b[39;00m ToolManager\n",
      "File \u001b[0;32m/home/zeus/miniconda3/envs/cloudspace/lib/python3.10/site-packages/matplotlib/text.py:16\u001b[0m\n\u001b[1;32m     14\u001b[0m \u001b[38;5;28;01mfrom\u001b[39;00m\u001b[38;5;250m \u001b[39m\u001b[38;5;21;01m.\u001b[39;00m\u001b[38;5;250m \u001b[39m\u001b[38;5;28;01mimport\u001b[39;00m _api, artist, cbook, _docstring\n\u001b[1;32m     15\u001b[0m \u001b[38;5;28;01mfrom\u001b[39;00m\u001b[38;5;250m \u001b[39m\u001b[38;5;21;01m.\u001b[39;00m\u001b[38;5;21;01martist\u001b[39;00m\u001b[38;5;250m \u001b[39m\u001b[38;5;28;01mimport\u001b[39;00m Artist\n\u001b[0;32m---> 16\u001b[0m \u001b[38;5;28;01mfrom\u001b[39;00m\u001b[38;5;250m \u001b[39m\u001b[38;5;21;01m.\u001b[39;00m\u001b[38;5;21;01mfont_manager\u001b[39;00m\u001b[38;5;250m \u001b[39m\u001b[38;5;28;01mimport\u001b[39;00m FontProperties\n\u001b[1;32m     17\u001b[0m \u001b[38;5;28;01mfrom\u001b[39;00m\u001b[38;5;250m \u001b[39m\u001b[38;5;21;01m.\u001b[39;00m\u001b[38;5;21;01mpatches\u001b[39;00m\u001b[38;5;250m \u001b[39m\u001b[38;5;28;01mimport\u001b[39;00m FancyArrowPatch, FancyBboxPatch, Rectangle\n\u001b[1;32m     18\u001b[0m \u001b[38;5;28;01mfrom\u001b[39;00m\u001b[38;5;250m \u001b[39m\u001b[38;5;21;01m.\u001b[39;00m\u001b[38;5;21;01mtextpath\u001b[39;00m\u001b[38;5;250m \u001b[39m\u001b[38;5;28;01mimport\u001b[39;00m TextPath, TextToPath  \u001b[38;5;66;03m# noqa # Logically located here\u001b[39;00m\n",
      "File \u001b[0;32m/home/zeus/miniconda3/envs/cloudspace/lib/python3.10/site-packages/matplotlib/font_manager.py:1643\u001b[0m\n\u001b[1;32m   1639\u001b[0m     _log\u001b[38;5;241m.\u001b[39minfo(\u001b[38;5;124m\"\u001b[39m\u001b[38;5;124mgenerated new fontManager\u001b[39m\u001b[38;5;124m\"\u001b[39m)\n\u001b[1;32m   1640\u001b[0m     \u001b[38;5;28;01mreturn\u001b[39;00m fm\n\u001b[0;32m-> 1643\u001b[0m fontManager \u001b[38;5;241m=\u001b[39m \u001b[43m_load_fontmanager\u001b[49m\u001b[43m(\u001b[49m\u001b[43m)\u001b[49m\n\u001b[1;32m   1644\u001b[0m findfont \u001b[38;5;241m=\u001b[39m fontManager\u001b[38;5;241m.\u001b[39mfindfont\n\u001b[1;32m   1645\u001b[0m get_font_names \u001b[38;5;241m=\u001b[39m fontManager\u001b[38;5;241m.\u001b[39mget_font_names\n",
      "File \u001b[0;32m/home/zeus/miniconda3/envs/cloudspace/lib/python3.10/site-packages/matplotlib/font_manager.py:1637\u001b[0m, in \u001b[0;36m_load_fontmanager\u001b[0;34m(try_read_cache)\u001b[0m\n\u001b[1;32m   1635\u001b[0m             _log\u001b[38;5;241m.\u001b[39mdebug(\u001b[38;5;124m\"\u001b[39m\u001b[38;5;124mUsing fontManager instance from \u001b[39m\u001b[38;5;132;01m%s\u001b[39;00m\u001b[38;5;124m\"\u001b[39m, fm_path)\n\u001b[1;32m   1636\u001b[0m             \u001b[38;5;28;01mreturn\u001b[39;00m fm\n\u001b[0;32m-> 1637\u001b[0m fm \u001b[38;5;241m=\u001b[39m \u001b[43mFontManager\u001b[49m\u001b[43m(\u001b[49m\u001b[43m)\u001b[49m\n\u001b[1;32m   1638\u001b[0m json_dump(fm, fm_path)\n\u001b[1;32m   1639\u001b[0m _log\u001b[38;5;241m.\u001b[39minfo(\u001b[38;5;124m\"\u001b[39m\u001b[38;5;124mgenerated new fontManager\u001b[39m\u001b[38;5;124m\"\u001b[39m)\n",
      "File \u001b[0;32m/home/zeus/miniconda3/envs/cloudspace/lib/python3.10/site-packages/matplotlib/font_manager.py:1103\u001b[0m, in \u001b[0;36mFontManager.__init__\u001b[0;34m(self, size, weight)\u001b[0m\n\u001b[1;32m   1100\u001b[0m \u001b[38;5;28;01mfor\u001b[39;00m path \u001b[38;5;129;01min\u001b[39;00m [\u001b[38;5;241m*\u001b[39mfindSystemFonts(paths, fontext\u001b[38;5;241m=\u001b[39mfontext),\n\u001b[1;32m   1101\u001b[0m              \u001b[38;5;241m*\u001b[39mfindSystemFonts(fontext\u001b[38;5;241m=\u001b[39mfontext)]:\n\u001b[1;32m   1102\u001b[0m     \u001b[38;5;28;01mtry\u001b[39;00m:\n\u001b[0;32m-> 1103\u001b[0m         \u001b[38;5;28;43mself\u001b[39;49m\u001b[38;5;241;43m.\u001b[39;49m\u001b[43maddfont\u001b[49m\u001b[43m(\u001b[49m\u001b[43mpath\u001b[49m\u001b[43m)\u001b[49m\n\u001b[1;32m   1104\u001b[0m     \u001b[38;5;28;01mexcept\u001b[39;00m \u001b[38;5;167;01mOSError\u001b[39;00m \u001b[38;5;28;01mas\u001b[39;00m exc:\n\u001b[1;32m   1105\u001b[0m         _log\u001b[38;5;241m.\u001b[39minfo(\u001b[38;5;124m\"\u001b[39m\u001b[38;5;124mFailed to open font file \u001b[39m\u001b[38;5;132;01m%s\u001b[39;00m\u001b[38;5;124m: \u001b[39m\u001b[38;5;132;01m%s\u001b[39;00m\u001b[38;5;124m\"\u001b[39m, path, exc)\n",
      "File \u001b[0;32m/home/zeus/miniconda3/envs/cloudspace/lib/python3.10/site-packages/matplotlib/font_manager.py:1132\u001b[0m, in \u001b[0;36mFontManager.addfont\u001b[0;34m(self, path)\u001b[0m\n\u001b[1;32m   1130\u001b[0m \u001b[38;5;28;01mif\u001b[39;00m Path(path)\u001b[38;5;241m.\u001b[39msuffix\u001b[38;5;241m.\u001b[39mlower() \u001b[38;5;241m==\u001b[39m \u001b[38;5;124m\"\u001b[39m\u001b[38;5;124m.afm\u001b[39m\u001b[38;5;124m\"\u001b[39m:\n\u001b[1;32m   1131\u001b[0m     \u001b[38;5;28;01mwith\u001b[39;00m \u001b[38;5;28mopen\u001b[39m(path, \u001b[38;5;124m\"\u001b[39m\u001b[38;5;124mrb\u001b[39m\u001b[38;5;124m\"\u001b[39m) \u001b[38;5;28;01mas\u001b[39;00m fh:\n\u001b[0;32m-> 1132\u001b[0m         font \u001b[38;5;241m=\u001b[39m \u001b[43m_afm\u001b[49m\u001b[38;5;241;43m.\u001b[39;49m\u001b[43mAFM\u001b[49m\u001b[43m(\u001b[49m\u001b[43mfh\u001b[49m\u001b[43m)\u001b[49m\n\u001b[1;32m   1133\u001b[0m     prop \u001b[38;5;241m=\u001b[39m afmFontProperty(path, font)\n\u001b[1;32m   1134\u001b[0m     \u001b[38;5;28mself\u001b[39m\u001b[38;5;241m.\u001b[39mafmlist\u001b[38;5;241m.\u001b[39mappend(prop)\n",
      "File \u001b[0;32m/home/zeus/miniconda3/envs/cloudspace/lib/python3.10/site-packages/matplotlib/_afm.py:363\u001b[0m, in \u001b[0;36mAFM.__init__\u001b[0;34m(self, fh)\u001b[0m\n\u001b[1;32m    361\u001b[0m \u001b[38;5;250m\u001b[39m\u001b[38;5;124;03m\"\"\"Parse the AFM file in file object *fh*.\"\"\"\u001b[39;00m\n\u001b[1;32m    362\u001b[0m \u001b[38;5;28mself\u001b[39m\u001b[38;5;241m.\u001b[39m_header \u001b[38;5;241m=\u001b[39m _parse_header(fh)\n\u001b[0;32m--> 363\u001b[0m \u001b[38;5;28mself\u001b[39m\u001b[38;5;241m.\u001b[39m_metrics, \u001b[38;5;28mself\u001b[39m\u001b[38;5;241m.\u001b[39m_metrics_by_name \u001b[38;5;241m=\u001b[39m \u001b[43m_parse_char_metrics\u001b[49m\u001b[43m(\u001b[49m\u001b[43mfh\u001b[49m\u001b[43m)\u001b[49m\n\u001b[1;32m    364\u001b[0m \u001b[38;5;28mself\u001b[39m\u001b[38;5;241m.\u001b[39m_kern, \u001b[38;5;28mself\u001b[39m\u001b[38;5;241m.\u001b[39m_composite \u001b[38;5;241m=\u001b[39m _parse_optional(fh)\n",
      "File \u001b[0;32m/home/zeus/miniconda3/envs/cloudspace/lib/python3.10/site-packages/matplotlib/_afm.py:224\u001b[0m, in \u001b[0;36m_parse_char_metrics\u001b[0;34m(fh)\u001b[0m\n\u001b[1;32m    222\u001b[0m wx \u001b[38;5;241m=\u001b[39m _to_float(vals[\u001b[38;5;124m'\u001b[39m\u001b[38;5;124mWX\u001b[39m\u001b[38;5;124m'\u001b[39m])\n\u001b[1;32m    223\u001b[0m name \u001b[38;5;241m=\u001b[39m vals[\u001b[38;5;124m'\u001b[39m\u001b[38;5;124mN\u001b[39m\u001b[38;5;124m'\u001b[39m]\n\u001b[0;32m--> 224\u001b[0m bbox \u001b[38;5;241m=\u001b[39m \u001b[43m_to_list_of_floats\u001b[49m\u001b[43m(\u001b[49m\u001b[43mvals\u001b[49m\u001b[43m[\u001b[49m\u001b[38;5;124;43m'\u001b[39;49m\u001b[38;5;124;43mB\u001b[39;49m\u001b[38;5;124;43m'\u001b[39;49m\u001b[43m]\u001b[49m\u001b[43m)\u001b[49m\n\u001b[1;32m    225\u001b[0m bbox \u001b[38;5;241m=\u001b[39m \u001b[38;5;28mlist\u001b[39m(\u001b[38;5;28mmap\u001b[39m(\u001b[38;5;28mint\u001b[39m, bbox))\n\u001b[1;32m    226\u001b[0m metrics \u001b[38;5;241m=\u001b[39m CharMetrics(wx, name, bbox)\n",
      "File \u001b[0;32m/home/zeus/miniconda3/envs/cloudspace/lib/python3.10/site-packages/matplotlib/_afm.py:78\u001b[0m, in \u001b[0;36m_to_list_of_floats\u001b[0;34m(s)\u001b[0m\n\u001b[1;32m     77\u001b[0m \u001b[38;5;28;01mdef\u001b[39;00m\u001b[38;5;250m \u001b[39m\u001b[38;5;21m_to_list_of_floats\u001b[39m(s):\n\u001b[0;32m---> 78\u001b[0m     \u001b[38;5;28;01mreturn\u001b[39;00m [_to_float(val) \u001b[38;5;28;01mfor\u001b[39;00m val \u001b[38;5;129;01min\u001b[39;00m s\u001b[38;5;241m.\u001b[39msplit()]\n",
      "\u001b[0;31mKeyboardInterrupt\u001b[0m: "
     ]
    }
   ],
   "source": [
    "# display the image img with size (1, 256, 256, 3)\n",
    "import matplotlib.pyplot as plt\n",
    "def display_image(image_tensor):\n",
    "    if image_tensor.ndim == 4:\n",
    "        image_tensor = image_tensor.squeeze(0)  # Remove batch dimension\n",
    "    plt.imshow(image_tensor)  # Change from (C, H, W) to (H, W, C)\n",
    "    plt.axis('off')\n",
    "    plt.show()"
   ]
  },
  {
   "cell_type": "code",
   "execution_count": null,
   "id": "4e21f6e2",
   "metadata": {},
   "outputs": [
    {
     "name": "stderr",
     "output_type": "stream",
     "text": [
      "Clipping input data to the valid range for imshow with RGB data ([0..1] for floats or [0..255] for integers).\n"
     ]
    },
    {
     "data": {
      "image/png": "[encoded data removed]",
      "text/plain": [
       "<Figure size 640x480 with 1 Axes>"
      ]
     },
     "metadata": {},
     "output_type": "display_data"
    }
   ],
   "source": [
    "display_image(img)"
   ]
  },
  {
   "cell_type": "code",
   "execution_count": null,
   "id": "442eab22",
   "metadata": {},
   "outputs": [
    {
     "name": "stderr",
     "output_type": "stream",
     "text": [
      "Clipping input data to the valid range for imshow with RGB data ([0..1] for floats or [0..255] for integers).\n"
     ]
    },
    {
     "data": {
      "image/png": "[encoded data removed]",
      "text/plain": [
       "<Figure size 640x480 with 1 Axes>"
      ]
     },
     "metadata": {},
     "output_type": "display_data"
    }
   ],
   "source": [
    "display_image(data[\"table_camera\"])\n"
   ]
  },
  {
   "cell_type": "code",
   "execution_count": null,
   "id": "731d869c",
   "metadata": {},
   "outputs": [],
   "source": [
    "data[\"table_camera\"][0][1][1]"
   ]
  },
  {
   "cell_type": "code",
   "execution_count": null,
   "id": "704b1318",
   "metadata": {},
   "outputs": [],
   "source": [
    "img = data[\"table_camera\"]"
   ]
  },
  {
   "cell_type": "code",
   "execution_count": null,
   "id": "e8ef1833",
   "metadata": {},
   "outputs": [
    {
     "data": {
      "text/plain": [
       "torch.Size([1, 256, 256, 3])"
      ]
     },
     "execution_count": 29,
     "metadata": {},
     "output_type": "execute_result"
    }
   ],
   "source": [
    "img.shape"
   ]
  },
  {
   "cell_type": "code",
   "execution_count": null,
   "id": "63aef858",
   "metadata": {},
   "outputs": [],
   "source": [
    "# convert to shape (1, 1, 256, 256, 3)\n",
    "img = img.unsqueeze(0)"
   ]
  },
  {
   "cell_type": "code",
   "execution_count": null,
   "id": "32ff9ab2",
   "metadata": {},
   "outputs": [
    {
     "data": {
      "text/plain": [
       "torch.Size([1, 1, 256, 256, 3])"
      ]
     },
     "execution_count": 31,
     "metadata": {},
     "output_type": "execute_result"
    }
   ],
   "source": [
    "img.shape"
   ]
  },
  {
   "cell_type": "code",
   "execution_count": null,
   "id": "036b899a",
   "metadata": {},
   "outputs": [],
   "source": [
    "# stack 5 duplicate img along the second dimension\n",
    "img_stack = img.repeat(1, 5, 1, 1, 1)"
   ]
  },
  {
   "cell_type": "code",
   "execution_count": null,
   "id": "c7e49eb7",
   "metadata": {},
   "outputs": [
    {
     "data": {
      "text/plain": [
       "torch.Size([1, 5, 256, 256, 3])"
      ]
     },
     "execution_count": 52,
     "metadata": {},
     "output_type": "execute_result"
    }
   ],
   "source": [
    "img_stack.shape"
   ]
  },
  {
   "cell_type": "code",
   "execution_count": null,
   "id": "05a2fde4",
   "metadata": {},
   "outputs": [
    {
     "data": {
      "text/plain": [
       "'torch.FloatTensor'"
      ]
     },
     "execution_count": 53,
     "metadata": {},
     "output_type": "execute_result"
    }
   ],
   "source": [
    "img_stack.type()"
   ]
  },
  {
   "cell_type": "code",
   "execution_count": null,
   "id": "80627cc1",
   "metadata": {},
   "outputs": [],
   "source": [
    "# play img_stack like a video\n",
    "from IPython.display import display, clear_output\n",
    "import time\n",
    "def play_video(image_stack, interval=0.1):\n",
    "    image_stack = image_stack.squeeze(0)  # Remove batch dimension\n",
    "    # while True:\n",
    "    for img in image_stack:\n",
    "        display_image(img)\n",
    "        time.sleep(interval)\n",
    "        clear_output(wait=True)"
   ]
  },
  {
   "cell_type": "code",
   "execution_count": null,
   "id": "6fd16438",
   "metadata": {},
   "outputs": [
    {
     "name": "stderr",
     "output_type": "stream",
     "text": [
      "Clipping input data to the valid range for imshow with RGB data ([0..1] for floats or [0..255] for integers).\n"
     ]
    },
    {
     "data": {
      "image/png": "[encoded data removed]",
      "text/plain": [
       "<Figure size 640x480 with 1 Axes>"
      ]
     },
     "metadata": {},
     "output_type": "display_data"
    },
    {
     "ename": "KeyboardInterrupt",
     "evalue": "",
     "output_type": "error",
     "traceback": [
      "\u001b[0;31m---------------------------------------------------------------------------\u001b[0m",
      "\u001b[0;31mKeyboardInterrupt\u001b[0m                         Traceback (most recent call last)",
      "Cell \u001b[0;32mIn[59], line 1\u001b[0m\n\u001b[0;32m----> 1\u001b[0m \u001b[43mplay_video\u001b[49m\u001b[43m(\u001b[49m\u001b[43mimg_stack\u001b[49m\u001b[43m)\u001b[49m\n",
      "Cell \u001b[0;32mIn[58], line 9\u001b[0m, in \u001b[0;36mplay_video\u001b[0;34m(image_stack, interval)\u001b[0m\n\u001b[1;32m      7\u001b[0m \u001b[38;5;28;01mfor\u001b[39;00m img \u001b[38;5;129;01min\u001b[39;00m image_stack:\n\u001b[1;32m      8\u001b[0m     display_image(img)\n\u001b[0;32m----> 9\u001b[0m     \u001b[43mtime\u001b[49m\u001b[38;5;241;43m.\u001b[39;49m\u001b[43msleep\u001b[49m\u001b[43m(\u001b[49m\u001b[43minterval\u001b[49m\u001b[43m)\u001b[49m\n\u001b[1;32m     10\u001b[0m     clear_output(wait\u001b[38;5;241m=\u001b[39m\u001b[38;5;28;01mTrue\u001b[39;00m)\n",
      "\u001b[0;31mKeyboardInterrupt\u001b[0m: "
     ]
    }
   ],
   "source": [
    "play_video(img_stack)"
   ]
  },
  {
   "cell_type": "code",
   "execution_count": null,
   "id": "a84aeaad",
   "metadata": {},
   "outputs": [],
   "source": [
    "# stack different img along second dimension\n",
    "img_stack = torch.stack([data[\"camera\"], data[\"table_camera\"]], dim=1)"
   ]
  },
  {
   "cell_type": "code",
   "execution_count": 1,
   "id": "48fabb39",
   "metadata": {},
   "outputs": [
    {
     "name": "stderr",
     "output_type": "stream",
     "text": [
      "/home/zeus/miniconda3/envs/cloudspace/lib/python3.10/site-packages/albumentations/__init__.py:13: UserWarning: A new version of Albumentations is available: 2.0.8 (you have 1.4.18). Upgrade using: pip install -U albumentations. To disable automatic update checks, set the environment variable NO_ALBUMENTATIONS_UPDATE to 1.\n",
      "  check_for_updates()\n",
      "/home/zeus/miniconda3/envs/cloudspace/lib/python3.10/site-packages/torchrl/data/replay_buffers/samplers.py:34: UserWarning: Failed to import torchrl C++ binaries. Some modules (eg, prioritized replay buffers) may not work with your installation. This is likely due to a discrepancy between your package version and the PyTorch version. Make sure both are compatible. Usually, torchrl majors follow the pytorch majors within a few days around the release. For instance, TorchRL 0.5 requires PyTorch 2.4.0, and TorchRL 0.6 requires PyTorch 2.5.0.\n",
      "  warnings.warn(EXTENSION_WARNING)\n",
      "2025-05-30 06:22:25.063115: E external/local_xla/xla/stream_executor/cuda/cuda_dnn.cc:9261] Unable to register cuDNN factory: Attempting to register factory for plugin cuDNN when one has already been registered\n",
      "2025-05-30 06:22:25.063437: E external/local_xla/xla/stream_executor/cuda/cuda_fft.cc:607] Unable to register cuFFT factory: Attempting to register factory for plugin cuFFT when one has already been registered\n",
      "2025-05-30 06:22:25.095166: E external/local_xla/xla/stream_executor/cuda/cuda_blas.cc:1515] Unable to register cuBLAS factory: Attempting to register factory for plugin cuBLAS when one has already been registered\n",
      "2025-05-30 06:22:25.181221: I tensorflow/core/platform/cpu_feature_guard.cc:182] This TensorFlow binary is optimized to use available CPU instructions in performance-critical operations.\n",
      "To enable the following instructions: AVX2 AVX512F FMA, in other operations, rebuild TensorFlow with the appropriate compiler flags.\n",
      "2025-05-30 06:22:26.256078: W tensorflow/compiler/tf2tensorrt/utils/py_utils.cc:38] TF-TRT Warning: Could not find TensorRT\n"
     ]
    }
   ],
   "source": [
    "from vla.online_data import OnlineBuffer\n",
    "from vla.data_config import *"
   ]
  },
  {
   "cell_type": "code",
   "execution_count": 2,
   "id": "09f29b28",
   "metadata": {},
   "outputs": [],
   "source": [
    "# open a .pt file and print the contents\n",
    "import sys\n",
    "import torch\n",
    "def pt_file_contents(file_path):\n",
    "    try:\n",
    "        data = torch.load(file_path, map_location='cpu')\n",
    "        return data\n",
    "    except Exception as e:\n",
    "        print(f\"Error loading file {file_path}: {e}\")"
   ]
  },
  {
   "cell_type": "code",
   "execution_count": 3,
   "id": "bd39438a",
   "metadata": {},
   "outputs": [
    {
     "name": "stderr",
     "output_type": "stream",
     "text": [
      "/tmp/ipykernel_4778/1167296463.py:6: FutureWarning: You are using `torch.load` with `weights_only=False` (the current default value), which uses the default pickle module implicitly. It is possible to construct malicious pickle data which will execute arbitrary code during unpickling (See https://github.com/pytorch/pytorch/blob/main/SECURITY.md#untrusted-models for more details). In a future release, the default value for `weights_only` will be flipped to `True`. This limits the functions that could be executed during unpickling. Arbitrary objects will no longer be allowed to be loaded via this mode unless they are explicitly allowlisted by the user via `torch.serialization.add_safe_globals`. We recommend you start setting `weights_only=True` for any use case where you don't have full control of the loaded file. Please open an issue on GitHub for any issues related to this experimental feature.\n",
      "  data = torch.load(file_path, map_location='cpu')\n"
     ]
    }
   ],
   "source": [
    "data_dict = pt_file_contents(\"/teamspace/studios/mere-salmon-k9gx/c3po/logs/rsl_rl/vla/2025-05-26_09-33-29/obs_dict_8.pt\")"
   ]
  },
  {
   "cell_type": "code",
   "execution_count": 4,
   "id": "8ac26956",
   "metadata": {},
   "outputs": [],
   "source": [
    "data_config = NeuraDataConfig()"
   ]
  },
  {
   "cell_type": "code",
   "execution_count": 5,
   "id": "62c1a7bd",
   "metadata": {},
   "outputs": [],
   "source": [
    "buffer = OnlineBuffer(data_config)"
   ]
  },
  {
   "cell_type": "code",
   "execution_count": 9,
   "id": "134b2502",
   "metadata": {},
   "outputs": [],
   "source": [
    "new_dict = buffer.add_obs_from_isaac(data_dict)"
   ]
  },
  {
   "cell_type": "code",
   "execution_count": 10,
   "id": "4718faca",
   "metadata": {},
   "outputs": [],
   "source": [
    "buffer.add_to_replay_buffer(data_dict)"
   ]
  },
  {
   "cell_type": "code",
   "execution_count": 23,
   "id": "fa500b7d",
   "metadata": {},
   "outputs": [
    {
     "data": {
      "text/plain": [
       "torch.Size([2, 256, 256, 3])"
      ]
     },
     "execution_count": 23,
     "metadata": {},
     "output_type": "execute_result"
    }
   ],
   "source": [
    "buffer.replay_buffer[\"video\"][\"camera\"].shape"
   ]
  },
  {
   "cell_type": "code",
   "execution_count": 7,
   "id": "8818d757",
   "metadata": {},
   "outputs": [
    {
     "name": "stdout",
     "output_type": "stream",
     "text": [
      "state - policy shape: torch.Size([1, 19])\n",
      "video - camera shape: torch.Size([1, 256, 256, 3])\n",
      "video - table_camera shape: torch.Size([1, 256, 256, 3])\n"
     ]
    }
   ],
   "source": [
    "# print the keys in the new dictionary\n",
    "for modality_label, sub_data in new_dict.items():\n",
    "    for key, values in sub_data.items():\n",
    "        if isinstance(values, torch.Tensor):\n",
    "            print(f\"{modality_label} - {key} shape: {values.shape}\")\n",
    "        else:\n",
    "            print(f\"{modality_label} - {key} type: {type(values)}\")"
   ]
  },
  {
   "cell_type": "code",
   "execution_count": 8,
   "id": "f6d4410d",
   "metadata": {},
   "outputs": [],
   "source": [
    "from vla.online_data import Data"
   ]
  },
  {
   "cell_type": "code",
   "execution_count": 9,
   "id": "d0314402",
   "metadata": {},
   "outputs": [],
   "source": [
    "d = Data(new_dict)"
   ]
  },
  {
   "cell_type": "code",
   "execution_count": 10,
   "id": "4921dffe",
   "metadata": {},
   "outputs": [
    {
     "data": {
      "text/plain": [
       "<vla.online_data.Data at 0x7fca48589c00>"
      ]
     },
     "execution_count": 10,
     "metadata": {},
     "output_type": "execute_result"
    }
   ],
   "source": [
    "d"
   ]
  },
  {
   "cell_type": "code",
   "execution_count": 11,
   "id": "ae4902db",
   "metadata": {},
   "outputs": [
    {
     "data": {
      "text/plain": [
       "tensor([[[[ 0.4363,  0.3922,  0.4353],\n",
       "          [ 0.4363,  0.3922,  0.4353],\n",
       "          [ 0.4363,  0.3922,  0.4353],\n",
       "          ...,\n",
       "          [ 0.4324,  0.3883,  0.4314],\n",
       "          [ 0.4089,  0.3687,  0.4118],\n",
       "          [ 0.0794,  0.0393,  0.0824]],\n",
       "\n",
       "         [[ 0.4363,  0.3922,  0.4353],\n",
       "          [ 0.4363,  0.3922,  0.4353],\n",
       "          [ 0.4363,  0.3922,  0.4353],\n",
       "          ...,\n",
       "          [ 0.4324,  0.3883,  0.4314],\n",
       "          [ 0.4128,  0.3687,  0.4118],\n",
       "          [ 0.0559,  0.0118,  0.0549]],\n",
       "\n",
       "         [[ 0.4363,  0.3922,  0.4353],\n",
       "          [ 0.4363,  0.3922,  0.4353],\n",
       "          [ 0.4363,  0.3922,  0.4353],\n",
       "          ...,\n",
       "          [ 0.4363,  0.3922,  0.4353],\n",
       "          [ 0.4167,  0.3726,  0.4157],\n",
       "          [ 0.0245, -0.0195,  0.0275]],\n",
       "\n",
       "         ...,\n",
       "\n",
       "         [[-0.4617, -0.5058, -0.4627],\n",
       "          [-0.4617, -0.5058, -0.4627],\n",
       "          [-0.4617, -0.5058, -0.4666],\n",
       "          ...,\n",
       "          [-0.4578, -0.5019, -0.4588],\n",
       "          [-0.4657, -0.5136, -0.4666],\n",
       "          [-0.5088, -0.5529, -0.5098]],\n",
       "\n",
       "         [[-0.4696, -0.5136, -0.4705],\n",
       "          [-0.4696, -0.5136, -0.4705],\n",
       "          [-0.4657, -0.5097, -0.4666],\n",
       "          ...,\n",
       "          [-0.4578, -0.5019, -0.4588],\n",
       "          [-0.4696, -0.5136, -0.4705],\n",
       "          [-0.5049, -0.5489, -0.5058]],\n",
       "\n",
       "         [[-0.4931, -0.5372, -0.4941],\n",
       "          [-0.4813, -0.5215, -0.4823],\n",
       "          [-0.4735, -0.5176, -0.4745],\n",
       "          ...,\n",
       "          [-0.4774, -0.5215, -0.4784],\n",
       "          [-0.4853, -0.5293, -0.4862],\n",
       "          [-0.5088, -0.5529, -0.5098]]]])"
      ]
     },
     "execution_count": 11,
     "metadata": {},
     "output_type": "execute_result"
    }
   ],
   "source": [
    "d[0].video.camera"
   ]
  },
  {
   "cell_type": "code",
   "execution_count": 12,
   "id": "b65d96a4",
   "metadata": {},
   "outputs": [],
   "source": [
    "a = Data(new_dict)"
   ]
  },
  {
   "cell_type": "code",
   "execution_count": 13,
   "id": "06c0e73a",
   "metadata": {},
   "outputs": [],
   "source": [
    "from torch.utils.data.dataset import Dataset, IterableDataset, ChainDataset, ConcatDataset"
   ]
  },
  {
   "cell_type": "code",
   "execution_count": 14,
   "id": "8a395989",
   "metadata": {},
   "outputs": [],
   "source": [
    "new = ConcatDataset([d,a])"
   ]
  },
  {
   "cell_type": "code",
   "execution_count": null,
   "id": "41885509",
   "metadata": {},
   "outputs": [
    {
     "ename": "AttributeError",
     "evalue": "'ConcatDataset' object has no attribute 'shape'",
     "output_type": "error",
     "traceback": [
      "\u001b[0;31m---------------------------------------------------------------------------\u001b[0m",
      "\u001b[0;31mAttributeError\u001b[0m                            Traceback (most recent call last)",
      "Cell \u001b[0;32mIn[17], line 1\u001b[0m\n\u001b[0;32m----> 1\u001b[0m \u001b[43mnew\u001b[49m\u001b[38;5;241;43m.\u001b[39;49m\u001b[43mshape\u001b[49m\n",
      "\u001b[0;31mAttributeError\u001b[0m: 'ConcatDataset' object has no attribute 'shape'"
     ]
    }
   ],
   "source": [
    "new.shape"
   ]
  },
  {
   "cell_type": "code",
   "execution_count": null,
   "id": "90dc2911",
   "metadata": {},
   "outputs": [],
   "source": []
  }
 ],
 "metadata": {
  "kernelspec": {
   "display_name": "cloudspace",
   "language": "python",
   "name": "python3"
  },
  "language_info": {
   "codemirror_mode": {
    "name": "ipython",
    "version": 3
   },
   "file_extension": ".py",
   "mimetype": "text/x-python",
   "name": "python",
   "nbconvert_exporter": "python",
   "pygments_lexer": "ipython3",
   "version": "3.10.10"
  }
 },
 "nbformat": 4,
 "nbformat_minor": 5
}
